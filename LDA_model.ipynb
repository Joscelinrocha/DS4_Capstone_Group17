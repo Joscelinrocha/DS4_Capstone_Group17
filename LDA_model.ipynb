{
 "cells": [
  {
   "cell_type": "code",
   "execution_count": 1,
   "metadata": {},
   "outputs": [],
   "source": [
    "## Joscelin is following these steps: https://github.com/Sandeep-Panchal/Topic-Modeling-with-LDA/blob/master/Topic-Modeling-IPYNB/Topic%20Modeling%20with%20LDA.ipynb\n",
    "\n",
    "import numpy as np\n",
    "import pandas as pd\n",
    "import random\n",
    "\n",
    "import warnings\n",
    "warnings.filterwarnings('ignore')"
   ]
  },
  {
   "cell_type": "code",
   "execution_count": 2,
   "metadata": {},
   "outputs": [
    {
     "data": {
      "text/html": [
       "<div>\n",
       "<style scoped>\n",
       "    .dataframe tbody tr th:only-of-type {\n",
       "        vertical-align: middle;\n",
       "    }\n",
       "\n",
       "    .dataframe tbody tr th {\n",
       "        vertical-align: top;\n",
       "    }\n",
       "\n",
       "    .dataframe thead th {\n",
       "        text-align: right;\n",
       "    }\n",
       "</style>\n",
       "<table border=\"1\" class=\"dataframe\">\n",
       "  <thead>\n",
       "    <tr style=\"text-align: right;\">\n",
       "      <th></th>\n",
       "      <th>user_id</th>\n",
       "      <th>user_bio</th>\n",
       "      <th>tokens</th>\n",
       "      <th>state</th>\n",
       "      <th>region</th>\n",
       "    </tr>\n",
       "  </thead>\n",
       "  <tbody>\n",
       "    <tr>\n",
       "      <th>0</th>\n",
       "      <td>1.180000e+18</td>\n",
       "      <td>I'm a nerdy guy who loves art, music, wrestlin...</td>\n",
       "      <td>nerdy guy love art music wrestle comics poly</td>\n",
       "      <td>OH</td>\n",
       "      <td>Midwest</td>\n",
       "    </tr>\n",
       "    <tr>\n",
       "      <th>1</th>\n",
       "      <td>1.440000e+18</td>\n",
       "      <td>No worries Lil Ms Sunshine cause I don't mess ...</td>\n",
       "      <td>worry lil sunshine cause mess woman moon civil...</td>\n",
       "      <td>PA</td>\n",
       "      <td>Northeast</td>\n",
       "    </tr>\n",
       "    <tr>\n",
       "      <th>2</th>\n",
       "      <td>1.219720e+08</td>\n",
       "      <td>I am a huge sports and music fan. I graduated ...</td>\n",
       "      <td>huge sport music fan graduate regis university...</td>\n",
       "      <td>CO</td>\n",
       "      <td>West</td>\n",
       "    </tr>\n",
       "    <tr>\n",
       "      <th>3</th>\n",
       "      <td>1.390000e+18</td>\n",
       "      <td>This is not, nor endorsed by, any Government E...</td>\n",
       "      <td>endorse government entity project guarantee wa...</td>\n",
       "      <td>WA</td>\n",
       "      <td>West</td>\n",
       "    </tr>\n",
       "    <tr>\n",
       "      <th>4</th>\n",
       "      <td>2.349053e+07</td>\n",
       "      <td>I'm a writer and a cult film fanatic who loves...</td>\n",
       "      <td>writer cult film fanatic love politics</td>\n",
       "      <td>UT</td>\n",
       "      <td>West</td>\n",
       "    </tr>\n",
       "    <tr>\n",
       "      <th>...</th>\n",
       "      <td>...</td>\n",
       "      <td>...</td>\n",
       "      <td>...</td>\n",
       "      <td>...</td>\n",
       "      <td>...</td>\n",
       "    </tr>\n",
       "    <tr>\n",
       "      <th>1723</th>\n",
       "      <td>2.961228e+08</td>\n",
       "      <td>Christian. Husband. Father. Ph.D. Candidate @B...</td>\n",
       "      <td>christian husband father candidate mosquito re...</td>\n",
       "      <td>OH</td>\n",
       "      <td>Midwest</td>\n",
       "    </tr>\n",
       "    <tr>\n",
       "      <th>1724</th>\n",
       "      <td>8.800000e+17</td>\n",
       "      <td>MarTech, MBA, Foodie, Bilingual, Soccer, Boxin...</td>\n",
       "      <td>martech mba foodie bilingual soccer box gamer ...</td>\n",
       "      <td>CA</td>\n",
       "      <td>West</td>\n",
       "    </tr>\n",
       "    <tr>\n",
       "      <th>1725</th>\n",
       "      <td>1.153059e+09</td>\n",
       "      <td>streams occasionally, will choose race cars ov...</td>\n",
       "      <td>stream occasionally choose race cars important...</td>\n",
       "      <td>KY</td>\n",
       "      <td>South</td>\n",
       "    </tr>\n",
       "    <tr>\n",
       "      <th>1726</th>\n",
       "      <td>2.432869e+08</td>\n",
       "      <td>Enjoy the practical wisdom of daily life. Prom...</td>\n",
       "      <td>enjoy practical wisdom daily life promote trut...</td>\n",
       "      <td>AZ</td>\n",
       "      <td>Southwest</td>\n",
       "    </tr>\n",
       "    <tr>\n",
       "      <th>1727</th>\n",
       "      <td>2.159799e+09</td>\n",
       "      <td>glass half full</td>\n",
       "      <td>glass half</td>\n",
       "      <td>MO</td>\n",
       "      <td>Midwest</td>\n",
       "    </tr>\n",
       "  </tbody>\n",
       "</table>\n",
       "<p>1644 rows × 5 columns</p>\n",
       "</div>"
      ],
      "text/plain": [
       "           user_id                                           user_bio  \\\n",
       "0     1.180000e+18  I'm a nerdy guy who loves art, music, wrestlin...   \n",
       "1     1.440000e+18  No worries Lil Ms Sunshine cause I don't mess ...   \n",
       "2     1.219720e+08  I am a huge sports and music fan. I graduated ...   \n",
       "3     1.390000e+18  This is not, nor endorsed by, any Government E...   \n",
       "4     2.349053e+07  I'm a writer and a cult film fanatic who loves...   \n",
       "...            ...                                                ...   \n",
       "1723  2.961228e+08  Christian. Husband. Father. Ph.D. Candidate @B...   \n",
       "1724  8.800000e+17  MarTech, MBA, Foodie, Bilingual, Soccer, Boxin...   \n",
       "1725  1.153059e+09  streams occasionally, will choose race cars ov...   \n",
       "1726  2.432869e+08  Enjoy the practical wisdom of daily life. Prom...   \n",
       "1727  2.159799e+09                                    glass half full   \n",
       "\n",
       "                                                 tokens state     region  \n",
       "0          nerdy guy love art music wrestle comics poly    OH    Midwest  \n",
       "1     worry lil sunshine cause mess woman moon civil...    PA  Northeast  \n",
       "2     huge sport music fan graduate regis university...    CO       West  \n",
       "3     endorse government entity project guarantee wa...    WA       West  \n",
       "4                writer cult film fanatic love politics    UT       West  \n",
       "...                                                 ...   ...        ...  \n",
       "1723  christian husband father candidate mosquito re...    OH    Midwest  \n",
       "1724  martech mba foodie bilingual soccer box gamer ...    CA       West  \n",
       "1725  stream occasionally choose race cars important...    KY      South  \n",
       "1726  enjoy practical wisdom daily life promote trut...    AZ  Southwest  \n",
       "1727                                         glass half    MO    Midwest  \n",
       "\n",
       "[1644 rows x 5 columns]"
      ]
     },
     "execution_count": 2,
     "metadata": {},
     "output_type": "execute_result"
    }
   ],
   "source": [
    "df = pd.read_csv('data/twitter_data_clean_final.csv')\n",
    "df = df.loc[:,[\"user_id\",\"user_bio\",\"tokens\",\"state\",\"region\"]]\n",
    "df.dropna(inplace=True)\n",
    "df\n",
    "# deep copy to avoid override of the original dataframe\n",
    "import copy\n",
    "\n",
    "df_new = copy.deepcopy(df)\n",
    "df_new"
   ]
  },
  {
   "cell_type": "code",
   "execution_count": 3,
   "metadata": {},
   "outputs": [
    {
     "name": "stdout",
     "output_type": "stream",
     "text": [
      "\n",
      "Shape of the sparse matrix\n",
      "\n"
     ]
    },
    {
     "data": {
      "text/plain": [
       "<1644x955 sparse matrix of type '<class 'numpy.int64'>'\n",
       "\twith 7163 stored elements in Compressed Sparse Row format>"
      ]
     },
     "execution_count": 3,
     "metadata": {},
     "output_type": "execute_result"
    }
   ],
   "source": [
    "# importing TFIDF vectorizer\n",
    "from sklearn.feature_extraction.text import CountVectorizer\n",
    "\n",
    "# creating an instance\n",
    "cv = CountVectorizer(max_df = 0.90, min_df = 3, stop_words = 'english')\n",
    "\n",
    "# fit and transform the text data\n",
    "cv_fit = cv.fit_transform(df_new.tokens)\n",
    "\n",
    "print('\\nShape of the sparse matrix\\n')\n",
    "cv_fit"
   ]
  },
  {
   "cell_type": "code",
   "execution_count": 8,
   "metadata": {},
   "outputs": [],
   "source": [
    "# importing Latent Dirichlet Allocation library\n",
    "from sklearn.decomposition import LatentDirichletAllocation\n",
    "\n",
    "# creating an instance for LDA\n",
    "lda = LatentDirichletAllocation(n_components = 10, random_state = 3)"
   ]
  },
  {
   "cell_type": "code",
   "execution_count": 9,
   "metadata": {},
   "outputs": [
    {
     "name": "stdout",
     "output_type": "stream",
     "text": [
      "Fitting the vectorizer with the LDA\n",
      "CPU times: user 5.79 s, sys: 152 ms, total: 5.94 s\n",
      "Wall time: 8.28 s\n"
     ]
    },
    {
     "data": {
      "text/plain": [
       "LatentDirichletAllocation(random_state=3)"
      ]
     },
     "execution_count": 9,
     "metadata": {},
     "output_type": "execute_result"
    }
   ],
   "source": [
    "%%time\n",
    "\n",
    "print('Fitting the vectorizer with the LDA')\n",
    "\n",
    "lda.fit(cv_fit)"
   ]
  },
  {
   "cell_type": "code",
   "execution_count": 10,
   "metadata": {},
   "outputs": [
    {
     "name": "stdout",
     "output_type": "stream",
     "text": [
      "Number of topic: 10\n",
      "Number of column of the lda fit: 955\n"
     ]
    }
   ],
   "source": [
    "print('Number of topic:', len(lda.components_))\n",
    "print('Number of column of the lda fit:',len(lda.components_[0]))"
   ]
  },
  {
   "cell_type": "code",
   "execution_count": 11,
   "metadata": {},
   "outputs": [
    {
     "name": "stdout",
     "output_type": "stream",
     "text": [
      "Length of feature names: 955\n"
     ]
    }
   ],
   "source": [
    "feature = cv.get_feature_names()\n",
    "\n",
    "print('Length of feature names:', len(feature))"
   ]
  },
  {
   "cell_type": "code",
   "execution_count": 12,
   "metadata": {},
   "outputs": [
    {
     "name": "stdout",
     "output_type": "stream",
     "text": [
      "top 50 words in topic 0\n",
      "-------------------------\n",
      "['champion', 'twitch', 'seattle', 'currently', 'san', 'sun', 'ask', 'illustrator', 'plant', 'alum', 'author', 'arts', 'jesus', 'texas', 'creative', 'dad', 'football', 'mom', 'everyday', 'alumnus', 'know', 'fan', 'live', 'baseball', 'blue', 'designer', 'enthusiast', 'veteran', 'student', 'california', 'husband', 'american', 'retire', 'politics', 'dog', 'cat', 'war', 'like', 'star', 'father', 'nerd', 'marry', 'proud', 'good', 'university', 'sport', 'time', 'state', 'follow', 'love'] \n",
      "\n",
      "\n",
      "top 50 words in topic 1\n",
      "-------------------------\n",
      "['progressive', 'earth', 'fight', 'certify', 'friend', 'peace', 'dream', 'host', 'music', 'alum', 'care', 'artist', 'coach', 'check', 'chair', 'creator', 'partner', 'hit', 'light', 'family', 'man', 'mom', 'advocate', 'personal', 'addict', 'stream', 'try', 'writer', 'enthusiast', 'fan', 'fear', 'father', 'youtube', 'let', 'raise', 'son', 'guy', 'love', 'time', 'fun', 'head', 'snapchat', 'bear', 'new', 'big', 'city', 'actor', 'tweet', 'things', 'god'] \n",
      "\n",
      "\n",
      "top 50 words in topic 2\n",
      "-------------------------\n",
      "['school', 'actor', 'twitch', 'business', 'wrestle', 'traveler', 'artist', 'journalist', 'estate', 'nsfw', 'aspire', 'strong', 'party', 'sth', 'learn', 'podcaster', 'manager', 'baseball', 'crypto', 'lot', 'musician', 'nyc', 'video', 'big', 'team', 'nurse', 'entrepreneur', 'like', 'songwriter', 'self', 'affiliate', 'listen', 'collector', 'los', 'angeles', 'member', 'real', 'singer', 'creator', 'mother', 'content', 'people', 'music', 'writer', 'podcast', 'love', 'host', 'producer', 'com', 'fan'] \n",
      "\n",
      "\n",
      "top 50 words in topic 3\n",
      "-------------------------\n",
      "['stand', 'winner', 'vaxxed', 'mask', 'past', 'therapy', 'time', 'art', 'make', 'instagram', 'need', 'ceo', 'democrat', 'queen', 'ambassador', 'geek', 'member', 'welcome', 'day', 'radio', 'brand', 'native', 'emmy', 'good', 'food', 'producer', 'writer', 'tweet', 'enjoy', 'usa', 'read', 'movies', 'alum', 'health', 'free', 'travel', 'music', 'gamer', 'lover', 'try', 'founder', 'award', 'dog', 'book', 'photographer', 'sport', 'love', 'win', 'mom', 'life'] \n",
      "\n",
      "\n",
      "top 50 words in topic 4\n",
      "-------------------------\n",
      "['fuck', 'public', 'acct', 'dude', 'hate', 'king', 'creative', 'stuff', 'chargers', 'think', 'small', 'water', 'respond', 'proud', 'joke', 'women', 'best', 'free', 'football', 'tweet', 'texas', 'make', 'family', 'smile', 'connecticut', 'half', 'director', 'single', 'bad', 'study', 'boy', 'wanna', 'new', 'media', 'ass', 'friends', 'write', 'insta', 'big', 'opinions', 'model', 'trump', 'love', 'live', 'tell', 'girl', 'look', 'snap', 'business', 'account'] \n",
      "\n",
      "\n",
      "top 50 words in topic 5\n",
      "-------------------------\n",
      "['love', 'owner', 'irl', 'father', 'bio', 'videos', 'die', 'license', 'influencer', 'know', 'daddy', 'light', 'hard', 'beautiful', 'let', 'time', 'build', 'web', 'worker', 'acab', 'market', 'cashapp', 'help', 'artist', 'link', 'husband', 'nfts', 'click', 'welcome', 'onlyfans', 'crypto', 'design', 'leave', 'dad', 'american', 'work', 'blm', 'news', 'office', 'unmonitored', 'syndication', 'develop', 'ceo', 'national', 'contact', 'social', 'service', 'play', 'weather', 'photographer'] \n",
      "\n",
      "\n",
      "top 50 words in topic 6\n",
      "-------------------------\n",
      "['real', 'coach', 'county', 'agency', 'crazy', 'people', 'way', 'director', 'bartender', 'account', 'book', 'true', 'com', 'help', 'entertainment', 'love', 'day', 'night', 'tweet', 'manager', 'ceo', 'connect', 'relations', 'email', 'official', 'producer', 'time', 'designer', 'owner', 'black', 'professional', 'raise', 'business', 'great', 'years', 'bring', 'come', 'live', 'base', 'play', 'engineer', 'twitter', 'life', 'like', 'writer', 'founder', 'best', 'world', 'music', 'man'] \n",
      "\n",
      "\n",
      "top 50 words in topic 7\n",
      "-------------------------\n",
      "['aficionado', 'marry', 'tech', 'developer', 'red', 'bio', 'super', 'type', 'report', 'southern', 'transit', 'record', 'major', 'retire', 'travel', 'collector', 'culture', 'punk', 'health', 'feature', 'player', 'valley', 'class', 'provide', 'pop', 'watch', 'person', 'update', 'high', 'horror', 'like', 'com', 'art', 'fanatic', 'book', 'writer', 'state', 'favorite', 'york', 'owner', 'huge', 'traffic', 'pro', 'wrestle', 'lover', 'new', 'love', 'artist', 'fan', 'music'] \n",
      "\n",
      "\n",
      "top 50 words in topic 8\n",
      "-------------------------\n",
      "['girl', 'com', 'people', 'talk', 'run', 'boston', 'warriors', 'vegas', 'lol', 'alumna', 'young', 'photo', 'teach', 'help', 'feel', 'founder', 'project', 'president', 'business', 'owner', 'dad', 'twitter', 'francisco', 'creator', 'funny', 'photography', 'school', 'post', 'year', 'create', 'fee', 'kid', 'teacher', 'author', 'work', 'want', 'liberal', 'host', 'san', 'artist', 'job', 'new', 'shit', 'page', 'years', 'love', 'account', 'know', 'coach', 'old'] \n",
      "\n",
      "\n",
      "top 50 words in topic 9\n",
      "-------------------------\n",
      "['real', 'fan', 'paint', 'com', 'history', 'owner', 'designer', 'love', 'advocate', 'snapchat', 'guy', 'chief', 'cook', 'jeff', 'way', 'humanity', 'affiliate', 'director', 'breed', 'nerd', 'photographer', 'video', 'family', 'open', 'better', 'stream', 'inspire', 'save', 'creator', 'model', 'home', 'future', 'bless', 'long', 'pizza', 'retire', 'twitch', 'content', 'bitch', 'grad', 'mind', 'opinions', 'art', 'life', 'matter', 'like', 'black', 'game', 'instagram', 'live'] \n",
      "\n",
      "\n"
     ]
    }
   ],
   "source": [
    "for ind, topic in enumerate(lda.components_):\n",
    "    print('top 50 words in topic {}'.format(ind))\n",
    "    print('-'*25)\n",
    "    top_50 = topic.argsort()[-50:]\n",
    "    print([feature[i] for i in top_50], '\\n\\n')"
   ]
  },
  {
   "cell_type": "code",
   "execution_count": 13,
   "metadata": {},
   "outputs": [
    {
     "name": "stdout",
     "output_type": "stream",
     "text": [
      "Shape of the df_final: (1644, 10)\n"
     ]
    }
   ],
   "source": [
    "# transform \n",
    "df_final = lda.transform(cv_fit)\n",
    "\n",
    "print('Shape of the df_final:', df_final.shape)"
   ]
  },
  {
   "cell_type": "code",
   "execution_count": 14,
   "metadata": {},
   "outputs": [
    {
     "name": "stdout",
     "output_type": "stream",
     "text": [
      "\n",
      "Checking the probabilitiy distribution of one text data belonging to the topic.\n",
      "\n",
      "Few words from 1st row: nerdy guy love art music wrestle comics poly \n",
      "\n",
      "Probability distribution: [0.01428745 0.01429018 0.01428778 0.01428791 0.01428754 0.01428628\n",
      " 0.01428788 0.57826256 0.01428657 0.30743585]\n"
     ]
    }
   ],
   "source": [
    "print('\\nChecking the probabilitiy distribution of one text data belonging to the topic.\\n')\n",
    "print('Few words from 1st row:', df_new.tokens[0][:88],'\\n')\n",
    "print('Probability distribution:', df_final[0])"
   ]
  },
  {
   "cell_type": "code",
   "execution_count": 15,
   "metadata": {},
   "outputs": [
    {
     "name": "stdout",
     "output_type": "stream",
     "text": [
      "Bio belonging to the topic 7 with the probability of 0.58\n"
     ]
    }
   ],
   "source": [
    "prob = df_final[0][df_final[0].argmax()].round(2)\n",
    "\n",
    "print('Bio belonging to the topic', df_final[0].argmax(), 'with the probability of', prob)"
   ]
  },
  {
   "cell_type": "code",
   "execution_count": 17,
   "metadata": {},
   "outputs": [
    {
     "data": {
      "text/html": [
       "<div>\n",
       "<style scoped>\n",
       "    .dataframe tbody tr th:only-of-type {\n",
       "        vertical-align: middle;\n",
       "    }\n",
       "\n",
       "    .dataframe tbody tr th {\n",
       "        vertical-align: top;\n",
       "    }\n",
       "\n",
       "    .dataframe thead th {\n",
       "        text-align: right;\n",
       "    }\n",
       "</style>\n",
       "<table border=\"1\" class=\"dataframe\">\n",
       "  <thead>\n",
       "    <tr style=\"text-align: right;\">\n",
       "      <th></th>\n",
       "      <th>user_id</th>\n",
       "      <th>user_bio</th>\n",
       "      <th>tokens</th>\n",
       "      <th>state</th>\n",
       "      <th>region</th>\n",
       "      <th>cluster</th>\n",
       "    </tr>\n",
       "  </thead>\n",
       "  <tbody>\n",
       "    <tr>\n",
       "      <th>0</th>\n",
       "      <td>1.180000e+18</td>\n",
       "      <td>I'm a nerdy guy who loves art, music, wrestlin...</td>\n",
       "      <td>nerdy guy love art music wrestle comics poly</td>\n",
       "      <td>OH</td>\n",
       "      <td>Midwest</td>\n",
       "      <td>7</td>\n",
       "    </tr>\n",
       "    <tr>\n",
       "      <th>1</th>\n",
       "      <td>1.440000e+18</td>\n",
       "      <td>No worries Lil Ms Sunshine cause I don't mess ...</td>\n",
       "      <td>worry lil sunshine cause mess woman moon civil...</td>\n",
       "      <td>PA</td>\n",
       "      <td>Northeast</td>\n",
       "      <td>6</td>\n",
       "    </tr>\n",
       "    <tr>\n",
       "      <th>2</th>\n",
       "      <td>1.219720e+08</td>\n",
       "      <td>I am a huge sports and music fan. I graduated ...</td>\n",
       "      <td>huge sport music fan graduate regis university...</td>\n",
       "      <td>CO</td>\n",
       "      <td>West</td>\n",
       "      <td>7</td>\n",
       "    </tr>\n",
       "    <tr>\n",
       "      <th>3</th>\n",
       "      <td>1.390000e+18</td>\n",
       "      <td>This is not, nor endorsed by, any Government E...</td>\n",
       "      <td>endorse government entity project guarantee wa...</td>\n",
       "      <td>WA</td>\n",
       "      <td>West</td>\n",
       "      <td>1</td>\n",
       "    </tr>\n",
       "    <tr>\n",
       "      <th>4</th>\n",
       "      <td>2.349053e+07</td>\n",
       "      <td>I'm a writer and a cult film fanatic who loves...</td>\n",
       "      <td>writer cult film fanatic love politics</td>\n",
       "      <td>UT</td>\n",
       "      <td>West</td>\n",
       "      <td>7</td>\n",
       "    </tr>\n",
       "  </tbody>\n",
       "</table>\n",
       "</div>"
      ],
      "text/plain": [
       "        user_id                                           user_bio  \\\n",
       "0  1.180000e+18  I'm a nerdy guy who loves art, music, wrestlin...   \n",
       "1  1.440000e+18  No worries Lil Ms Sunshine cause I don't mess ...   \n",
       "2  1.219720e+08  I am a huge sports and music fan. I graduated ...   \n",
       "3  1.390000e+18  This is not, nor endorsed by, any Government E...   \n",
       "4  2.349053e+07  I'm a writer and a cult film fanatic who loves...   \n",
       "\n",
       "                                              tokens state     region  cluster  \n",
       "0       nerdy guy love art music wrestle comics poly    OH    Midwest        7  \n",
       "1  worry lil sunshine cause mess woman moon civil...    PA  Northeast        6  \n",
       "2  huge sport music fan graduate regis university...    CO       West        7  \n",
       "3  endorse government entity project guarantee wa...    WA       West        1  \n",
       "4             writer cult film fanatic love politics    UT       West        7  "
      ]
     },
     "execution_count": 17,
     "metadata": {},
     "output_type": "execute_result"
    }
   ],
   "source": [
    "df_new['cluster'] = df_final.argmax(axis = 1)\n",
    "\n",
    "df_new.head()"
   ]
  },
  {
   "cell_type": "code",
   "execution_count": 19,
   "metadata": {},
   "outputs": [
    {
     "data": {
      "text/html": [
       "<div>\n",
       "<style scoped>\n",
       "    .dataframe tbody tr th:only-of-type {\n",
       "        vertical-align: middle;\n",
       "    }\n",
       "\n",
       "    .dataframe tbody tr th {\n",
       "        vertical-align: top;\n",
       "    }\n",
       "\n",
       "    .dataframe thead th {\n",
       "        text-align: right;\n",
       "    }\n",
       "</style>\n",
       "<table border=\"1\" class=\"dataframe\">\n",
       "  <thead>\n",
       "    <tr style=\"text-align: right;\">\n",
       "      <th></th>\n",
       "      <th>user_id</th>\n",
       "      <th>user_bio</th>\n",
       "      <th>tokens</th>\n",
       "      <th>state</th>\n",
       "      <th>region</th>\n",
       "      <th>cluster</th>\n",
       "      <th>genre</th>\n",
       "    </tr>\n",
       "  </thead>\n",
       "  <tbody>\n",
       "    <tr>\n",
       "      <th>0</th>\n",
       "      <td>1.180000e+18</td>\n",
       "      <td>I'm a nerdy guy who loves art, music, wrestlin...</td>\n",
       "      <td>nerdy guy love art music wrestle comics poly</td>\n",
       "      <td>OH</td>\n",
       "      <td>Midwest</td>\n",
       "      <td>7</td>\n",
       "      <td>EDM</td>\n",
       "    </tr>\n",
       "    <tr>\n",
       "      <th>1</th>\n",
       "      <td>1.440000e+18</td>\n",
       "      <td>No worries Lil Ms Sunshine cause I don't mess ...</td>\n",
       "      <td>worry lil sunshine cause mess woman moon civil...</td>\n",
       "      <td>PA</td>\n",
       "      <td>Northeast</td>\n",
       "      <td>6</td>\n",
       "      <td>Christian/Gospel</td>\n",
       "    </tr>\n",
       "    <tr>\n",
       "      <th>2</th>\n",
       "      <td>1.219720e+08</td>\n",
       "      <td>I am a huge sports and music fan. I graduated ...</td>\n",
       "      <td>huge sport music fan graduate regis university...</td>\n",
       "      <td>CO</td>\n",
       "      <td>West</td>\n",
       "      <td>7</td>\n",
       "      <td>EDM</td>\n",
       "    </tr>\n",
       "    <tr>\n",
       "      <th>3</th>\n",
       "      <td>1.390000e+18</td>\n",
       "      <td>This is not, nor endorsed by, any Government E...</td>\n",
       "      <td>endorse government entity project guarantee wa...</td>\n",
       "      <td>WA</td>\n",
       "      <td>West</td>\n",
       "      <td>1</td>\n",
       "      <td>Latin</td>\n",
       "    </tr>\n",
       "    <tr>\n",
       "      <th>4</th>\n",
       "      <td>2.349053e+07</td>\n",
       "      <td>I'm a writer and a cult film fanatic who loves...</td>\n",
       "      <td>writer cult film fanatic love politics</td>\n",
       "      <td>UT</td>\n",
       "      <td>West</td>\n",
       "      <td>7</td>\n",
       "      <td>EDM</td>\n",
       "    </tr>\n",
       "  </tbody>\n",
       "</table>\n",
       "</div>"
      ],
      "text/plain": [
       "        user_id                                           user_bio  \\\n",
       "0  1.180000e+18  I'm a nerdy guy who loves art, music, wrestlin...   \n",
       "1  1.440000e+18  No worries Lil Ms Sunshine cause I don't mess ...   \n",
       "2  1.219720e+08  I am a huge sports and music fan. I graduated ...   \n",
       "3  1.390000e+18  This is not, nor endorsed by, any Government E...   \n",
       "4  2.349053e+07  I'm a writer and a cult film fanatic who loves...   \n",
       "\n",
       "                                              tokens state     region  \\\n",
       "0       nerdy guy love art music wrestle comics poly    OH    Midwest   \n",
       "1  worry lil sunshine cause mess woman moon civil...    PA  Northeast   \n",
       "2  huge sport music fan graduate regis university...    CO       West   \n",
       "3  endorse government entity project guarantee wa...    WA       West   \n",
       "4             writer cult film fanatic love politics    UT       West   \n",
       "\n",
       "   cluster             genre  \n",
       "0        7               EDM  \n",
       "1        6  Christian/Gospel  \n",
       "2        7               EDM  \n",
       "3        1             Latin  \n",
       "4        7               EDM  "
      ]
     },
     "execution_count": 19,
     "metadata": {},
     "output_type": "execute_result"
    }
   ],
   "source": [
    "# creating a dictionary with key as topic numbers and value as topic names\n",
    "#Joscelin used random genres here to see if everything is working\n",
    "\n",
    "topic_label = {0:'Pop', 1:'Latin', 2:'R&B', 3:'Rock', 4:'HipHop', 5:'HipHop',6:'Christian/Gospel', 7:'EDM',8:'Children',9:'Classical', 10:'World'}\n",
    "\n",
    "# mapping the dictionary with the dataframe to get the labels.\n",
    "df_new['genre'] = df_new['cluster'].map(topic_label)\n",
    "\n",
    "# head of the dataframe\n",
    "df_new.head()"
   ]
  }
 ],
 "metadata": {
  "kernelspec": {
   "display_name": "Python 3",
   "language": "python",
   "name": "python3"
  },
  "language_info": {
   "codemirror_mode": {
    "name": "ipython",
    "version": 3
   },
   "file_extension": ".py",
   "mimetype": "text/x-python",
   "name": "python",
   "nbconvert_exporter": "python",
   "pygments_lexer": "ipython3",
   "version": "3.8.3"
  }
 },
 "nbformat": 4,
 "nbformat_minor": 4
}
